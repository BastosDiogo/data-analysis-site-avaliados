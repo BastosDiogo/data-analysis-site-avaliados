{
 "cells": [
  {
   "cell_type": "code",
   "execution_count": 1,
   "metadata": {},
   "outputs": [
    {
     "name": "stdout",
     "output_type": "stream",
     "text": [
      "   home  how_it_works  contact  bought\n",
      "0     1             1        0       0\n",
      "1     1             1        0       0\n",
      "2     1             1        0       0\n",
      "3     1             1        0       0\n",
      "4     1             1        0       0\n"
     ]
    }
   ],
   "source": [
    "import pandas as pd\n",
    "from sklearn.svm import LinearSVC\n",
    "from sklearn.metrics import accuracy_score\n",
    "from sklearn.model_selection import train_test_split\n",
    "\n",
    "url = 'https://gist.githubusercontent.com/guilhermesilveira/2d2efa37d66b6c84a722ea627a897ced/raw/10968b997d885cbded1c92938c7a9912ba41c615/tracking.csv'\n",
    "\n",
    "dados = pd.read_csv(url)\n",
    "print(dados.head())"
   ]
  },
  {
   "cell_type": "code",
   "execution_count": 2,
   "metadata": {},
   "outputs": [
    {
     "name": "stdout",
     "output_type": "stream",
     "text": [
      "   principal  como_funciona  contato  comprado\n",
      "0          1              1        0         0\n",
      "1          1              1        0         0\n",
      "2          1              1        0         0\n"
     ]
    }
   ],
   "source": [
    "renome_colunas = {\n",
    "    \"home\": \"principal\",\n",
    "    \"how_it_works\": \"como_funciona\",\n",
    "    \"contact\": \"contato\",\n",
    "    \"bought\":\"comprado\"\n",
    "}\n",
    "dados = dados.rename(columns=renome_colunas)\n",
    "print(dados.head(3))"
   ]
  },
  {
   "cell_type": "markdown",
   "metadata": {},
   "source": [
    "Separar as Features (\"características\") e Classe"
   ]
  },
  {
   "cell_type": "code",
   "execution_count": 3,
   "metadata": {},
   "outputs": [],
   "source": [
    "x = dados[['principal', 'como_funciona', 'contato']]\n",
    "y = dados['comprado']"
   ]
  },
  {
   "cell_type": "markdown",
   "metadata": {},
   "source": [
    "Semeadura e balanceamento na proporção dos de teste e treino"
   ]
  },
  {
   "cell_type": "code",
   "execution_count": null,
   "metadata": {},
   "outputs": [],
   "source": [
    "SEED = 20\n",
    "\n",
    "treino_x, teste_x, treino_y, teste_y = train_test_split(\n",
    "    x, y, random_state = SEED, test_size = 0.25, stratify=y\n",
    ")\n",
    "print(\"Treinaremos com %d elementos e testaremos com %d elementos\" % (len(treino_x), len(teste_x)))\n",
    "\n",
    "modelo = LinearSVC()\n",
    "modelo.fit(treino_x, treino_y)\n",
    "previsoes = modelo.predict(teste_x)\n",
    "\n",
    "acuracia = accuracy_score(teste_y, previsoes) * 100\n",
    "print(\"A acurácia foi %.2f%%\" % acuracia)"
   ]
  },
  {
   "cell_type": "markdown",
   "metadata": {},
   "source": [
    "Verificando proporcionalidade entre dados de teste e dados de treino"
   ]
  },
  {
   "cell_type": "code",
   "execution_count": 17,
   "metadata": {},
   "outputs": [
    {
     "name": "stdout",
     "output_type": "stream",
     "text": [
      "Proporção dos testes: 1.96\n",
      "Proporção dos treinos: 1.96\n"
     ]
    }
   ],
   "source": [
    "qtd_dados_treino = treino_y.value_counts()\n",
    "proporcao_treino_negativos = qtd_dados_treino[0]\n",
    "proporcao_treino_positivos = qtd_dados_treino[1]\n",
    "proporcao_treino = proporcao_treino_negativos/proporcao_treino_positivos\n",
    "\n",
    "qtd_dados_teste = teste_y.value_counts()\n",
    "proporcao_treino_negativos = qtd_dados_treino[0]\n",
    "proporcao_treino_positivos = qtd_dados_treino[1]\n",
    "proporcao_teste = proporcao_treino_negativos/proporcao_treino_positivos\n",
    "\n",
    "print(f'Proporção dos testes: {proporcao_teste}',\n",
    "      f'Proporção dos treinos: {proporcao_treino}', sep='\\n')\n"
   ]
  }
 ],
 "metadata": {
  "kernelspec": {
   "display_name": "venv",
   "language": "python",
   "name": "python3"
  },
  "language_info": {
   "codemirror_mode": {
    "name": "ipython",
    "version": 3
   },
   "file_extension": ".py",
   "mimetype": "text/x-python",
   "name": "python",
   "nbconvert_exporter": "python",
   "pygments_lexer": "ipython3",
   "version": "3.11.4"
  },
  "orig_nbformat": 4
 },
 "nbformat": 4,
 "nbformat_minor": 2
}
